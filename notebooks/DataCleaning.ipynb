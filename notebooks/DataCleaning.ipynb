{
 "cells": [
  {
   "cell_type": "code",
   "execution_count": 2,
   "metadata": {},
   "outputs": [],
   "source": [
    "import pandas as pd\n",
    "import json"
   ]
  },
  {
   "cell_type": "code",
   "execution_count": 10,
   "metadata": {},
   "outputs": [],
   "source": [
    "with open('/Users/brianhuang/dsc180a-fa22/dsc180a-quarter-one-project/test/testdata/test_user_watch_history_videos.json') as fh:\n",
    "    data = json.load(fh)"
   ]
  },
  {
   "cell_type": "code",
   "execution_count": 18,
   "metadata": {},
   "outputs": [
    {
     "data": {
      "text/plain": [
       "{'kind': 'youtube#playlistItem',\n",
       " 'etag': 'BG4o5ef4P3yZUafOdmfU2UO548k',\n",
       " 'id': 'UExGc1FsZUFXWHNqXzR5RGVlYmlJQURkSDVGTWF5QmlKby41NkI0NEY2RDEwNTU3Q0M2',\n",
       " 'snippet': {'publishedAt': '2017-08-13T00:19:12Z',\n",
       "  'channelId': 'UCqjLgu2L35BoHNnhQLzmlfQ',\n",
       "  'title': 'Yee',\n",
       "  'description': 'Dinosauri bisesti dalle voci funeste. Original title: \"I dinosauri antropomorfi hanno il sangue nel ritmo\" (literally \"The anthropomorphic dinosaurs have blood in their rhythm\"), as opposite to http://youtu.be/e6MLjaKhp5U\\nIf you are that \"wtf this is so funny i want to know shit\"-type of person, here\\'s some info/faq:\\n- original cartoon: https://youtu.be/brLqiYj5lQw\\n- original song: http://youtu.be/v_XJIsDJgXc?t=4m1s (at 4:01)\\n- original yee: https://youtu.be/hCKQP9IHHcA\\n- \"is this a remix?\" sort of. i arranged the dinos so that they would sing along with the music and that\\'s it\\n- \"why does the dino say yee?\" in the original footage he was calling the other dinosaur by name (\"Peek\")\\n- \"fuck everything! i went through the whole movie and there was no yee sound! i hate my life\" dude, yee is only in the italian version of the movie, ciao ciao pizza ferrari\\n- \"is the italian dub as atrocious as the english one?\" you bet\\n- \"why did you make this video?\" i was trying to make a burrito out of your stupid questions and this happened\\n- \"how did this become so popular?\" illuminati',\n",
       "  'thumbnails': {'default': {'url': 'https://i.ytimg.com/vi/q6EoRBvdVPQ/default.jpg',\n",
       "    'width': 120,\n",
       "    'height': 90},\n",
       "   'medium': {'url': 'https://i.ytimg.com/vi/q6EoRBvdVPQ/mqdefault.jpg',\n",
       "    'width': 320,\n",
       "    'height': 180},\n",
       "   'high': {'url': 'https://i.ytimg.com/vi/q6EoRBvdVPQ/hqdefault.jpg',\n",
       "    'width': 480,\n",
       "    'height': 360}},\n",
       "  'channelTitle': 'kierancaspian',\n",
       "  'playlistId': 'PLFsQleAWXsj_4yDeebiIADdH5FMayBiJo',\n",
       "  'position': 0,\n",
       "  'resourceId': {'kind': 'youtube#video', 'videoId': 'q6EoRBvdVPQ'},\n",
       "  'videoOwnerChannelTitle': 'revergo',\n",
       "  'videoOwnerChannelId': 'UC-fD_qwTEQQ1L-MUWx_mNvg'},\n",
       " 'contentDetails': {'videoId': 'q6EoRBvdVPQ',\n",
       "  'videoPublishedAt': '2012-02-29T19:47:08Z'},\n",
       " 'status': {'privacyStatus': 'public'}}"
      ]
     },
     "execution_count": 18,
     "metadata": {},
     "output_type": "execute_result"
    }
   ],
   "source": [
    "data['items'][0]"
   ]
  },
  {
   "cell_type": "code",
   "execution_count": 20,
   "metadata": {},
   "outputs": [
    {
     "data": {
      "text/plain": [
       "['https://youtube.com/watch?v=q6EoRBvdVPQ',\n",
       " 'https://youtube.com/watch?v=8YWl7tDGUPA',\n",
       " 'https://youtube.com/watch?v=6bnanI9jXps',\n",
       " 'https://youtube.com/watch?v=IOzaT_uTNiU',\n",
       " 'https://youtube.com/watch?v=SBeYzoQPbu8',\n",
       " 'https://youtube.com/watch?v=ixQkcuZhXg8',\n",
       " 'https://youtube.com/watch?v=EWF8Nfm-LLk',\n",
       " 'https://youtube.com/watch?v=91UczWPzMjg',\n",
       " 'https://youtube.com/watch?v=Pvqb5aSDfrE',\n",
       " 'https://youtube.com/watch?v=v3i8vsIUA7Q',\n",
       " 'https://youtube.com/watch?v=0r--lCyPjRY',\n",
       " 'https://youtube.com/watch?v=VV5JOQyUYNg',\n",
       " 'https://youtube.com/watch?v=b3sOOBicyDY',\n",
       " 'https://youtube.com/watch?v=zMtj4yJKuzk',\n",
       " 'https://youtube.com/watch?v=GzgavGowD_A',\n",
       " 'https://youtube.com/watch?v=5lL5xRKquPQ',\n",
       " 'https://youtube.com/watch?v=rEhxPhVQdYE',\n",
       " 'https://youtube.com/watch?v=PaFnO5LKTSs',\n",
       " 'https://youtube.com/watch?v=lBKGeYILzaM',\n",
       " 'https://youtube.com/watch?v=MwBxDnL4PZE',\n",
       " 'https://youtube.com/watch?v=rtChPB6NjJY',\n",
       " 'https://youtube.com/watch?v=KhpRFURlwJI',\n",
       " 'https://youtube.com/watch?v=-1KBowkgk3Q',\n",
       " 'https://youtube.com/watch?v=6s2iwMFZk_Q',\n",
       " 'https://youtube.com/watch?v=o77NwC2TLR8',\n",
       " 'https://youtube.com/watch?v=WFoC3TR5rzI',\n",
       " 'https://youtube.com/watch?v=AZdgxWV4SgU',\n",
       " 'https://youtube.com/watch?v=mO-ZZxhlY_Q',\n",
       " 'https://youtube.com/watch?v=7rQhBlTkvt4',\n",
       " 'https://youtube.com/watch?v=wtUMQZqI3x0',\n",
       " 'https://youtube.com/watch?v=a4uFJMNSthE',\n",
       " 'https://youtube.com/watch?v=AZYErjxUqyE',\n",
       " 'https://youtube.com/watch?v=3j9XNhrwVtY',\n",
       " 'https://youtube.com/watch?v=raquI7epZbg',\n",
       " 'https://youtube.com/watch?v=yr_Rpk9HR1g',\n",
       " 'https://youtube.com/watch?v=jQmlVEBQYig',\n",
       " 'https://youtube.com/watch?v=7pZ7Kj00wJ4',\n",
       " 'https://youtube.com/watch?v=Q8qk6XiARrg',\n",
       " 'https://youtube.com/watch?v=Tj1H28KOzMM',\n",
       " 'https://youtube.com/watch?v=YAg-WauGrLU',\n",
       " 'https://youtube.com/watch?v=1Bix44C1EzY',\n",
       " 'https://youtube.com/watch?v=K9zMGICGUvM',\n",
       " 'https://youtube.com/watch?v=RK29S_4313Y',\n",
       " 'https://youtube.com/watch?v=KaeYczuhDqw',\n",
       " 'https://youtube.com/watch?v=lg_sd_EpTDs',\n",
       " 'https://youtube.com/watch?v=yNtySt6Fg30',\n",
       " 'https://youtube.com/watch?v=XJZgHAyPq6I',\n",
       " 'https://youtube.com/watch?v=ssvkQ6HMlmQ',\n",
       " 'https://youtube.com/watch?v=CIdXPIN3j38',\n",
       " 'https://youtube.com/watch?v=mdsS7dLR-d8']"
      ]
     },
     "execution_count": 20,
     "metadata": {},
     "output_type": "execute_result"
    }
   ],
   "source": [
    "['https://youtube.com/watch?v=' + entry['contentDetails']['videoId'] for entry in data['items']]"
   ]
  },
  {
   "cell_type": "code",
   "execution_count": null,
   "metadata": {},
   "outputs": [],
   "source": []
  }
 ],
 "metadata": {
  "kernelspec": {
   "display_name": "Python 3.8.5 ('.venv': venv)",
   "language": "python",
   "name": "python3"
  },
  "language_info": {
   "codemirror_mode": {
    "name": "ipython",
    "version": 3
   },
   "file_extension": ".py",
   "mimetype": "text/x-python",
   "name": "python",
   "nbconvert_exporter": "python",
   "pygments_lexer": "ipython3",
   "version": "3.8.5"
  },
  "orig_nbformat": 4,
  "vscode": {
   "interpreter": {
    "hash": "a849e01c42fb735dda27c6ae5d0dd28e42c461d0298f0e1a938e3f455b375c86"
   }
  }
 },
 "nbformat": 4,
 "nbformat_minor": 2
}
