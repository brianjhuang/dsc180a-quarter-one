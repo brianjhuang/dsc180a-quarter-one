{
 "cells": [
  {
   "cell_type": "code",
   "execution_count": null,
   "metadata": {},
   "outputs": [],
   "source": [
    "from googleapiclient.discovery import build\n",
    "import pandas as pd\n",
    "import os\n",
    "import json\n",
    "import time\n",
    "import googleapiclient.errors\n",
    "\n",
    "import logging\n",
    "\n",
    "from tqdm.notebook import tqdm\n",
    "import random"
   ]
  },
  {
   "cell_type": "code",
   "execution_count": null,
   "metadata": {},
   "outputs": [],
   "source": [
    "api_key = os.environ.get('YOUTUBE_DATA_API_KEY')"
   ]
  },
  {
   "cell_type": "code",
   "execution_count": null,
   "metadata": {},
   "outputs": [],
   "source": [
    "youtube = build('youtube', 'v3', developerKey=api_key)"
   ]
  },
  {
   "cell_type": "code",
   "execution_count": null,
   "metadata": {},
   "outputs": [],
   "source": [
    "comments = pd.read_json(\"../pseudoscience-paper-data/groundtruth_videos_comments_ids.json\", lines = True)"
   ]
  },
  {
   "cell_type": "code",
   "execution_count": null,
   "metadata": {},
   "outputs": [],
   "source": [
    "comments.head()"
   ]
  },
  {
   "cell_type": "code",
   "execution_count": null,
   "metadata": {},
   "outputs": [],
   "source": [
    "video_ids = comments['id']"
   ]
  },
  {
   "cell_type": "code",
   "execution_count": null,
   "metadata": {},
   "outputs": [],
   "source": [
    "# function to add to JSON\n",
    "def write_json(comment_response, filename='raw_comment_responses.json'):\n",
    "    with open(filename,'r+') as file:\n",
    "        # First we load existing data into a dict.\n",
    "        file_data = json.load(file)\n",
    "        # Join new_data with file_data inside emp_details\n",
    "        file_data[\"comments\"].append(comment_response)\n",
    "        # Sets file's current position at offset.\n",
    "        file.seek(0)\n",
    "        # convert back to json.\n",
    "        json.dump(file_data, file, indent = 4)"
   ]
  },
  {
   "cell_type": "code",
   "execution_count": null,
   "metadata": {},
   "outputs": [],
   "source": [
    "logging.basicConfig(filename='log.txt', \n",
    "\t\t    filemode='a', \n",
    "\t\t    level=logging.INFO,\n",
    "\t\t    datefmt='%H:%M:%S',\n",
    "\t\t    format='%(asctime)s,%(msecs)d %(name)s %(levelname)s %(message)s')"
   ]
  },
  {
   "cell_type": "code",
   "execution_count": null,
   "metadata": {},
   "outputs": [],
   "source": [
    "comments = json.load(open(\"raw_comment_responses.json\"))"
   ]
  },
  {
   "cell_type": "code",
   "execution_count": null,
   "metadata": {},
   "outputs": [],
   "source": [
    "completed_requests = [list(comment.keys())[0] for comment in comments['comments']]"
   ]
  },
  {
   "cell_type": "code",
   "execution_count": null,
   "metadata": {},
   "outputs": [],
   "source": [
    "len(completed_requests)"
   ]
  },
  {
   "cell_type": "code",
   "execution_count": null,
   "metadata": {},
   "outputs": [],
   "source": [
    "max_count = len(video_ids)\n",
    "print(len(completed_requests))\n",
    "\n",
    "# f = IntProgress(min=0, max=max_count) # instantiate the bar\n",
    "# display(f) # display the bar\n",
    "# print(f.value)\n",
    "\n",
    "logging.info(\"\\n\")\n",
    "p_bar = tqdm(range(max_count))\n",
    "already_completed = 0\n",
    "total_time = 0\n",
    "previous_time = 0\n",
    "previous_id = \"START\"\n",
    "\n",
    "for number in p_bar:\n",
    "    start = time.time()\n",
    "    id = video_ids[number]\n",
    "    p_bar.set_description(f'Working on {id}... Average Time: {total_time/(number + 1 - already_completed)}... Total Time: {total_time}... Last Write: {previous_time} seconds for {previous_id}')\n",
    "    if id in completed_requests:\n",
    "        logging.info(f\"{id} already scraped\")\n",
    "        already_completed += 1\n",
    "        continue\n",
    "\n",
    "    try:\n",
    "        video_response=youtube.commentThreads().list(\n",
    "            part='snippet,replies',\n",
    "            videoId=id,\n",
    "            maxResults = 100\n",
    "        ).execute()\n",
    "    except googleapiclient.errors.HttpError as e:\n",
    "        logging.info(f\"Encountered {e}\")\n",
    "        video_response = {\"noComments\":[]}\n",
    "\n",
    "    write_json({id : video_response})\n",
    "    completed_requests.append(id)\n",
    "    logging.info(f\"Wrote {id} to JSON\")\n",
    "    end = time.time()\n",
    "    previous_time = end-start\n",
    "    previous_id = id\n",
    "    total_time += (previous_time)\n"
   ]
  }
 ],
 "metadata": {
  "kernelspec": {
   "display_name": "Python 3.8.5 ('virtualenv': venv)",
   "language": "python",
   "name": "python3"
  },
  "language_info": {
   "codemirror_mode": {
    "name": "ipython",
    "version": 3
   },
   "file_extension": ".py",
   "mimetype": "text/x-python",
   "name": "python",
   "nbconvert_exporter": "python",
   "pygments_lexer": "ipython3",
   "version": "3.8.5"
  },
  "orig_nbformat": 4,
  "vscode": {
   "interpreter": {
    "hash": "7e6bbca6b4c4401617a432cdd64c9a4f94bc5e14c8b012aa31c676a2ffb8ef21"
   }
  }
 },
 "nbformat": 4,
 "nbformat_minor": 2
}
