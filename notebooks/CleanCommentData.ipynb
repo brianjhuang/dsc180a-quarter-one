{
 "cells": [
  {
   "cell_type": "code",
   "execution_count": 1,
   "metadata": {},
   "outputs": [],
   "source": [
    "import pandas as pd\n",
    "import json\n",
    "import numpy as np"
   ]
  },
  {
   "cell_type": "code",
   "execution_count": 2,
   "metadata": {},
   "outputs": [],
   "source": [
    "data = json.load(open(\"raw_comment_responses.json\"))"
   ]
  },
  {
   "cell_type": "code",
   "execution_count": 3,
   "metadata": {},
   "outputs": [],
   "source": [
    "comment_data = data['comments']"
   ]
  },
  {
   "cell_type": "code",
   "execution_count": 19,
   "metadata": {},
   "outputs": [
    {
     "data": {
      "text/plain": [
       "6650"
      ]
     },
     "execution_count": 19,
     "metadata": {},
     "output_type": "execute_result"
    }
   ],
   "source": [
    "len(comment_data)"
   ]
  },
  {
   "cell_type": "code",
   "execution_count": 5,
   "metadata": {},
   "outputs": [],
   "source": [
    "videoIds = [list(comment.keys())[0] for comment in comment_data]"
   ]
  },
  {
   "cell_type": "code",
   "execution_count": 6,
   "metadata": {},
   "outputs": [],
   "source": [
    "# Pass in a video (JSON response from YouTube API) return a dataframe\n",
    "def getCommentsFromVideo(video):\n",
    "    video_id = list(video.keys())[0]\n",
    "    comments = list(video.values())[0]\n",
    "    if 'noComments' in comments.keys():\n",
    "        return\n",
    "        # return pd.DataFrame({\n",
    "        #     'videoId': video_id,\n",
    "        #     'textDisplay': \"\",\n",
    "        #     'textOriginal': \"\",\n",
    "        #     'authorDisplayName': \"\",\n",
    "        #     'authorProfileImageUrl': \"\",\n",
    "        #     'authorChannelUrl':\"\",\n",
    "        #     'authorChannelId':{'value':\"\"},\n",
    "        #     'canRate':False,\n",
    "        #     'viewerRating':\"\",\n",
    "        #     'likeCount':0,\n",
    "        #     'publishedAt':\"\",\n",
    "        #     'updatedAt':\"\",\n",
    "        #     'commentId':\"\"\n",
    "        # })\n",
    "    else:\n",
    "        comments = comments['items']\n",
    "\n",
    "    if len(comments) == 0:\n",
    "        return\n",
    "        # return pd.DataFrame({\n",
    "        #     'videoId': video_id,\n",
    "        #     'textDisplay': \"\",\n",
    "        #     'textOriginal': \"\",\n",
    "        #     'authorDisplayName': \"\",\n",
    "        #     'authorProfileImageUrl': \"\",\n",
    "        #     'authorChannelUrl':\"\",\n",
    "        #     'authorChannelId':{'value':\"\"},\n",
    "        #     'canRate':False,\n",
    "        #     'viewerRating':\"\",\n",
    "        #     'likeCount':0,\n",
    "        #     'publishedAt':\"\",\n",
    "        #     'updatedAt':\"\",\n",
    "        #     'commentId':\"\"\n",
    "        # })\n",
    "    \n",
    "    comment_data = []\n",
    "    for comment in comments:\n",
    "        datum = comment['snippet']['topLevelComment']\n",
    "        comment_id = datum['id']\n",
    "        comment_info = datum['snippet']\n",
    "        comment_info['commentId'] = comment_id\n",
    "        comment_data.append(comment_info)\n",
    "    \n",
    "    return pd.DataFrame(comment_data)"
   ]
  },
  {
   "cell_type": "code",
   "execution_count": 7,
   "metadata": {},
   "outputs": [],
   "source": [
    "# Pass in a list of videos (JSONs) and return a concatenated dataframe. Pass in 1000 video (100000 comments)\n",
    "def loadVideos(data):\n",
    "    dataframes = []\n",
    "    for video in data:\n",
    "        dataframes.append(getCommentsFromVideo(video))\n",
    "    \n",
    "    return pd.concat(dataframes, ignore_index=True)"
   ]
  },
  {
   "cell_type": "code",
   "execution_count": 8,
   "metadata": {},
   "outputs": [],
   "source": [
    "commentDf = pd.DataFrame()"
   ]
  },
  {
   "cell_type": "code",
   "execution_count": 12,
   "metadata": {},
   "outputs": [],
   "source": [
    "dataFull = loadVideos(comment_data)"
   ]
  },
  {
   "cell_type": "code",
   "execution_count": 14,
   "metadata": {},
   "outputs": [],
   "source": [
    "commentsGrouped = pd.DataFrame(dataFull[['videoId', 'textOriginal']].groupby('videoId')['textOriginal'].apply(list)).reset_index()"
   ]
  },
  {
   "cell_type": "code",
   "execution_count": 15,
   "metadata": {},
   "outputs": [],
   "source": [
    "# commentsGrouped['_id'] = mongoId\n",
    "# commentsGrouped = commentsGrouped.rename(columns={\"_id\":\"_id\", \"textOriginal\":\"comments\", \"videoId\":\"id\"}).reindex(columns = ['_id', 'comments', 'id'])\n",
    "commentsGrouped = commentsGrouped.rename(columns={\"textOriginal\":\"comments\", \"videoId\":\"id\"}).reindex(columns = ['comments', 'id'])"
   ]
  },
  {
   "cell_type": "code",
   "execution_count": 16,
   "metadata": {},
   "outputs": [
    {
     "data": {
      "text/plain": [
       "comments    [Helen mom just FYI Andrew the proud father of...\n",
       "id                                                --wsPKKj_H0\n",
       "Name: 2, dtype: object"
      ]
     },
     "execution_count": 16,
     "metadata": {},
     "output_type": "execute_result"
    }
   ],
   "source": [
    "commentsGrouped.iloc[2]"
   ]
  },
  {
   "cell_type": "code",
   "execution_count": 17,
   "metadata": {},
   "outputs": [
    {
     "data": {
      "text/plain": [
       "5668"
      ]
     },
     "execution_count": 17,
     "metadata": {},
     "output_type": "execute_result"
    }
   ],
   "source": [
    "len(commentsGrouped)"
   ]
  },
  {
   "cell_type": "code",
   "execution_count": 21,
   "metadata": {},
   "outputs": [],
   "source": [
    "commentsJson = commentsGrouped.to_json(orient = 'records')\n",
    "with open(\"../pseudoscience-paper-data/groundtruth_videos_comments.json\", \"w\") as f:\n",
    "    f.write(commentsJson)"
   ]
  },
  {
   "cell_type": "code",
   "execution_count": 20,
   "metadata": {},
   "outputs": [
    {
     "data": {
      "text/plain": [
       "0.8653435114503817"
      ]
     },
     "execution_count": 20,
     "metadata": {},
     "output_type": "execute_result"
    }
   ],
   "source": [
    "5668/6550"
   ]
  }
 ],
 "metadata": {
  "kernelspec": {
   "display_name": "Python 3.8.5 ('virtualenv': venv)",
   "language": "python",
   "name": "python3"
  },
  "language_info": {
   "codemirror_mode": {
    "name": "ipython",
    "version": 3
   },
   "file_extension": ".py",
   "mimetype": "text/x-python",
   "name": "python",
   "nbconvert_exporter": "python",
   "pygments_lexer": "ipython3",
   "version": "3.8.5"
  },
  "orig_nbformat": 4,
  "vscode": {
   "interpreter": {
    "hash": "7e6bbca6b4c4401617a432cdd64c9a4f94bc5e14c8b012aa31c676a2ffb8ef21"
   }
  }
 },
 "nbformat": 4,
 "nbformat_minor": 2
}
